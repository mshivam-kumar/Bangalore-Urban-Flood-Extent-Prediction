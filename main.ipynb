{
 "cells": [
  {
   "cell_type": "code",
   "execution_count": null,
   "id": "6bd77a8e",
   "metadata": {},
   "outputs": [
    {
     "name": "stdout",
     "output_type": "stream",
     "text": [
      "Current directory:: /Bangalore-Urban-Flood-Extent-Prediction/notebooks\n",
      "Parent directory: /Projects\n",
      "Updated sys.path: ['/Projects/Bangalore-Urban-Flood-Extent-Prediction', '/home/floodai/anaconda3/envs/shivam/lib/python310.zip', '/home/floodai/anaconda3/envs/shivam/lib/python3.10', '/home/floodai/anaconda3/envs/shivam/lib/python3.10/lib-dynload', '', '/home/floodai/anaconda3/envs/shivam/lib/python3.10/site-packages']\n"
     ]
    }
   ],
   "source": [
    "import sys\n",
    "import os\n",
    "# Get the current working directory\n",
    "current_dir = os.getcwd()\n",
    "# Get the parent directory path\n",
    "parent_dir = os.path.abspath(os.path.join(current_dir, '..'))\n",
    "print(f\"Current directory: {current_dir}\\nParent directory: {parent_dir}\")\n",
    "# Add the parent directory to sys.path if it's not already there\n",
    "if parent_dir not in sys.path:\n",
    "    sys.path.insert(0, parent_dir)\n",
    "print(f\"Updated sys.path: {sys.path}\")"
   ]
  },
  {
   "cell_type": "code",
   "execution_count": 29,
   "id": "29416248",
   "metadata": {},
   "outputs": [],
   "source": [
    "%matplotlib inline"
   ]
  },
  {
   "cell_type": "code",
   "execution_count": 3,
   "id": "7180ea94",
   "metadata": {},
   "outputs": [],
   "source": [
    "from config import project_config\n",
    "import importlib\n",
    "importlib.reload(project_config)\n",
    "from src.utils.log_config import setup_log\n",
    "from src.utils import plots\n",
    "# from src.data.data_loader import DataLoader"
   ]
  },
  {
   "cell_type": "code",
   "execution_count": 4,
   "id": "4e73a941",
   "metadata": {},
   "outputs": [],
   "source": [
    "padded_pixel_value = -99999.0  # unique for padding\n"
   ]
  },
  {
   "cell_type": "code",
   "execution_count": 5,
   "id": "e26f40f6",
   "metadata": {},
   "outputs": [],
   "source": [
    "TARGET_STATE = \"Karnataka\"  \n",
    "TARGET_DISTRICT = \"Bangalore Urban\" \n",
    "safe_district_name = TARGET_DISTRICT.replace(\" \", \"_\").replace(\"/\", \"_\")"
   ]
  },
  {
   "cell_type": "code",
   "execution_count": null,
   "id": "6bfa36da",
   "metadata": {},
   "outputs": [],
   "source": [
    "from src.data.make_dataset import FloodDataset"
   ]
  },
  {
   "cell_type": "code",
   "execution_count": null,
   "id": "dc7372ae",
   "metadata": {},
   "outputs": [],
   "source": []
  },
  {
   "cell_type": "code",
   "execution_count": 8,
   "id": "c4860f46",
   "metadata": {},
   "outputs": [],
   "source": [
    "# Setting up the device cuda or cpu as per the availability\n",
    "device = torch.device(\"cuda\" if torch.cuda.is_available() else \"cpu\")"
   ]
  },
  {
   "cell_type": "code",
   "execution_count": 9,
   "id": "e287f226",
   "metadata": {},
   "outputs": [],
   "source": [
    "pad_val = -99999.0\n",
    "nodata_dict = {\n",
    "    \"VH\": None,\"VV\": None,\"dVH\": None,\"dVV\": None,\n",
    "    \"DEM_elevation\": -32768.0,\"DEM_slope\": -32768.0,\n",
    "    \"DEM_sin_aspect\": -32768.0,\"DEM_cos_aspect\": -32768.0,\"DEM_curvature\": -32768.0,\n",
    "    \"HND\": None,\"Rainfall\": None\n",
    "}\n",
    "channel_names = [\n",
    "        \"VH\", \"VV\", \"dVH\", \"dVV\",\n",
    "        \"DEM_elevation\", \"DEM_slope\", \"DEM_sin_aspect\", \"DEM_cos_aspect\", \"DEM_curvature\",\n",
    "        \"HND\", \"Rainfall\"\n",
    "    ]"
   ]
  },
  {
   "cell_type": "markdown",
   "id": "fa1187ce",
   "metadata": {},
   "source": [
    "#### Masked BCE loss function"
   ]
  },
  {
   "cell_type": "code",
   "execution_count": null,
   "id": "202e7bd8",
   "metadata": {},
   "outputs": [],
   "source": [
    "from src.models.loss import masked_bce_loss"
   ]
  },
  {
   "cell_type": "markdown",
   "id": "de85c606",
   "metadata": {},
   "source": [
    "#### Evaluation setup"
   ]
  },
  {
   "cell_type": "code",
   "execution_count": null,
   "id": "9d96b498",
   "metadata": {},
   "outputs": [],
   "source": [
    "from src.models.evaluate import evaluate_model, print_metrics, save_results, plot_confusion_matrix_total_percentage"
   ]
  },
  {
   "cell_type": "markdown",
   "id": "3b41c82a",
   "metadata": {},
   "source": [
    "### Model"
   ]
  },
  {
   "cell_type": "code",
   "execution_count": null,
   "id": "f13b9b21",
   "metadata": {},
   "outputs": [],
   "source": [
    "from src.models.model import BinaryModel"
   ]
  },
  {
   "cell_type": "markdown",
   "id": "8e60bcb5",
   "metadata": {},
   "source": [
    "### Training setup"
   ]
  },
  {
   "cell_type": "markdown",
   "id": "ed75464d",
   "metadata": {},
   "source": [
    "##### Using 1.4 pos weight to handle flood class imbalance. Find by analysis over number of pixels of flood and non-flood classes"
   ]
  },
  {
   "cell_type": "code",
   "execution_count": null,
   "id": "ac7d2cbd",
   "metadata": {},
   "outputs": [],
   "source": [
    "from src.models.train import train_model"
   ]
  },
  {
   "cell_type": "code",
   "execution_count": 14,
   "id": "79dbd090",
   "metadata": {},
   "outputs": [
    {
     "name": "stderr",
     "output_type": "stream",
     "text": [
      "Epoch 1/100 [Train]: 100%|██████████| 36/36 [00:29<00:00,  1.22it/s]\n",
      "Epoch 1/100 [Val]: 100%|██████████| 5/5 [00:02<00:00,  2.04it/s]\n"
     ]
    },
    {
     "name": "stdout",
     "output_type": "stream",
     "text": [
      "Epoch 0: Train=0.8242, Val=0.8185\n",
      "✓ New best model saved at epoch 1 with val loss: 0.8185\n"
     ]
    },
    {
     "name": "stderr",
     "output_type": "stream",
     "text": [
      "Epoch 2/100 [Train]: 100%|██████████| 36/36 [00:26<00:00,  1.38it/s]\n",
      "Epoch 2/100 [Val]: 100%|██████████| 5/5 [00:02<00:00,  2.05it/s]\n"
     ]
    },
    {
     "name": "stdout",
     "output_type": "stream",
     "text": [
      "Epoch 1: Train=0.8160, Val=0.8154\n",
      "✓ New best model saved at epoch 2 with val loss: 0.8154\n"
     ]
    },
    {
     "name": "stderr",
     "output_type": "stream",
     "text": [
      "Epoch 3/100 [Train]: 100%|██████████| 36/36 [00:25<00:00,  1.42it/s]\n",
      "Epoch 3/100 [Val]: 100%|██████████| 5/5 [00:02<00:00,  2.12it/s]\n"
     ]
    },
    {
     "name": "stdout",
     "output_type": "stream",
     "text": [
      "Epoch 2: Train=0.8123, Val=0.8235\n"
     ]
    },
    {
     "name": "stderr",
     "output_type": "stream",
     "text": [
      "Epoch 4/100 [Train]: 100%|██████████| 36/36 [00:25<00:00,  1.42it/s]\n",
      "Epoch 4/100 [Val]: 100%|██████████| 5/5 [00:02<00:00,  2.09it/s]\n"
     ]
    },
    {
     "name": "stdout",
     "output_type": "stream",
     "text": [
      "Epoch 3: Train=0.7475, Val=0.8311\n"
     ]
    },
    {
     "name": "stderr",
     "output_type": "stream",
     "text": [
      "Epoch 5/100 [Train]: 100%|██████████| 36/36 [00:25<00:00,  1.41it/s]\n",
      "Epoch 5/100 [Val]: 100%|██████████| 5/5 [00:02<00:00,  2.09it/s]\n"
     ]
    },
    {
     "name": "stdout",
     "output_type": "stream",
     "text": [
      "Epoch 4: Train=0.7528, Val=1.0167\n"
     ]
    },
    {
     "name": "stderr",
     "output_type": "stream",
     "text": [
      "Epoch 6/100 [Train]: 100%|██████████| 36/36 [00:25<00:00,  1.41it/s]\n",
      "Epoch 6/100 [Val]: 100%|██████████| 5/5 [00:02<00:00,  2.10it/s]\n"
     ]
    },
    {
     "name": "stdout",
     "output_type": "stream",
     "text": [
      "Epoch 5: Train=0.7671, Val=1.1983\n"
     ]
    },
    {
     "name": "stderr",
     "output_type": "stream",
     "text": [
      "Epoch 7/100 [Train]: 100%|██████████| 36/36 [00:25<00:00,  1.42it/s]\n",
      "Epoch 7/100 [Val]: 100%|██████████| 5/5 [00:02<00:00,  2.10it/s]\n"
     ]
    },
    {
     "name": "stdout",
     "output_type": "stream",
     "text": [
      "Epoch 6: Train=0.7406, Val=1.3594\n"
     ]
    },
    {
     "name": "stderr",
     "output_type": "stream",
     "text": [
      "Epoch 8/100 [Train]: 100%|██████████| 36/36 [00:25<00:00,  1.43it/s]\n",
      "Epoch 8/100 [Val]: 100%|██████████| 5/5 [00:02<00:00,  2.13it/s]\n"
     ]
    },
    {
     "name": "stdout",
     "output_type": "stream",
     "text": [
      "Epoch 7: Train=0.6911, Val=0.8262\n"
     ]
    },
    {
     "name": "stderr",
     "output_type": "stream",
     "text": [
      "Epoch 9/100 [Train]: 100%|██████████| 36/36 [00:25<00:00,  1.43it/s]\n",
      "Epoch 9/100 [Val]: 100%|██████████| 5/5 [00:02<00:00,  2.13it/s]\n"
     ]
    },
    {
     "name": "stdout",
     "output_type": "stream",
     "text": [
      "Epoch 8: Train=0.6576, Val=0.8442\n"
     ]
    },
    {
     "name": "stderr",
     "output_type": "stream",
     "text": [
      "Epoch 10/100 [Train]: 100%|██████████| 36/36 [00:25<00:00,  1.43it/s]\n",
      "Epoch 10/100 [Val]: 100%|██████████| 5/5 [00:02<00:00,  2.09it/s]\n"
     ]
    },
    {
     "name": "stdout",
     "output_type": "stream",
     "text": [
      "Epoch 9: Train=0.8242, Val=0.8382\n"
     ]
    },
    {
     "name": "stderr",
     "output_type": "stream",
     "text": [
      "Epoch 11/100 [Train]: 100%|██████████| 36/36 [00:25<00:00,  1.42it/s]\n",
      "Epoch 11/100 [Val]: 100%|██████████| 5/5 [00:02<00:00,  2.08it/s]\n"
     ]
    },
    {
     "name": "stdout",
     "output_type": "stream",
     "text": [
      "Epoch 10: Train=0.6804, Val=0.8415\n"
     ]
    },
    {
     "name": "stderr",
     "output_type": "stream",
     "text": [
      "Epoch 12/100 [Train]: 100%|██████████| 36/36 [00:25<00:00,  1.43it/s]\n",
      "Epoch 12/100 [Val]: 100%|██████████| 5/5 [00:02<00:00,  2.12it/s]\n"
     ]
    },
    {
     "name": "stdout",
     "output_type": "stream",
     "text": [
      "Epoch 11: Train=0.6373, Val=0.8439\n"
     ]
    },
    {
     "name": "stderr",
     "output_type": "stream",
     "text": [
      "Epoch 13/100 [Train]: 100%|██████████| 36/36 [00:25<00:00,  1.42it/s]\n",
      "Epoch 13/100 [Val]: 100%|██████████| 5/5 [00:02<00:00,  2.13it/s]\n"
     ]
    },
    {
     "name": "stdout",
     "output_type": "stream",
     "text": [
      "Epoch 12: Train=0.6064, Val=0.8452\n"
     ]
    },
    {
     "name": "stderr",
     "output_type": "stream",
     "text": [
      "Epoch 14/100 [Train]: 100%|██████████| 36/36 [00:25<00:00,  1.42it/s]\n",
      "Epoch 14/100 [Val]: 100%|██████████| 5/5 [00:02<00:00,  2.07it/s]\n"
     ]
    },
    {
     "name": "stdout",
     "output_type": "stream",
     "text": [
      "Epoch 13: Train=0.5877, Val=0.5963\n",
      "✓ New best model saved at epoch 14 with val loss: 0.5963\n"
     ]
    },
    {
     "name": "stderr",
     "output_type": "stream",
     "text": [
      "Epoch 15/100 [Train]: 100%|██████████| 36/36 [00:25<00:00,  1.42it/s]\n",
      "Epoch 15/100 [Val]: 100%|██████████| 5/5 [00:02<00:00,  2.11it/s]\n"
     ]
    },
    {
     "name": "stdout",
     "output_type": "stream",
     "text": [
      "Epoch 14: Train=0.6012, Val=0.8510\n"
     ]
    },
    {
     "name": "stderr",
     "output_type": "stream",
     "text": [
      "Epoch 16/100 [Train]: 100%|██████████| 36/36 [00:25<00:00,  1.43it/s]\n",
      "Epoch 16/100 [Val]: 100%|██████████| 5/5 [00:02<00:00,  2.10it/s]\n"
     ]
    },
    {
     "name": "stdout",
     "output_type": "stream",
     "text": [
      "Epoch 15: Train=0.5753, Val=0.7516\n"
     ]
    },
    {
     "name": "stderr",
     "output_type": "stream",
     "text": [
      "Epoch 17/100 [Train]: 100%|██████████| 36/36 [00:25<00:00,  1.42it/s]\n",
      "Epoch 17/100 [Val]: 100%|██████████| 5/5 [00:02<00:00,  2.10it/s]\n"
     ]
    },
    {
     "name": "stdout",
     "output_type": "stream",
     "text": [
      "Epoch 16: Train=0.5565, Val=1.0039\n"
     ]
    },
    {
     "name": "stderr",
     "output_type": "stream",
     "text": [
      "Epoch 18/100 [Train]: 100%|██████████| 36/36 [00:25<00:00,  1.43it/s]\n",
      "Epoch 18/100 [Val]: 100%|██████████| 5/5 [00:02<00:00,  2.12it/s]\n"
     ]
    },
    {
     "name": "stdout",
     "output_type": "stream",
     "text": [
      "Epoch 17: Train=0.5420, Val=0.7455\n"
     ]
    },
    {
     "name": "stderr",
     "output_type": "stream",
     "text": [
      "Epoch 19/100 [Train]: 100%|██████████| 36/36 [00:25<00:00,  1.41it/s]\n",
      "Epoch 19/100 [Val]: 100%|██████████| 5/5 [00:02<00:00,  2.08it/s]\n"
     ]
    },
    {
     "name": "stdout",
     "output_type": "stream",
     "text": [
      "Epoch 18: Train=0.5286, Val=0.7834\n"
     ]
    },
    {
     "name": "stderr",
     "output_type": "stream",
     "text": [
      "Epoch 20/100 [Train]: 100%|██████████| 36/36 [00:25<00:00,  1.41it/s]\n",
      "Epoch 20/100 [Val]: 100%|██████████| 5/5 [00:02<00:00,  2.08it/s]\n"
     ]
    },
    {
     "name": "stdout",
     "output_type": "stream",
     "text": [
      "Epoch 19: Train=0.5064, Val=0.7719\n"
     ]
    },
    {
     "name": "stderr",
     "output_type": "stream",
     "text": [
      "Epoch 21/100 [Train]: 100%|██████████| 36/36 [00:25<00:00,  1.41it/s]\n",
      "Epoch 21/100 [Val]: 100%|██████████| 5/5 [00:02<00:00,  2.10it/s]\n"
     ]
    },
    {
     "name": "stdout",
     "output_type": "stream",
     "text": [
      "Epoch 20: Train=0.4963, Val=0.5953\n",
      "✓ New best model saved at epoch 21 with val loss: 0.5953\n"
     ]
    },
    {
     "name": "stderr",
     "output_type": "stream",
     "text": [
      "Epoch 22/100 [Train]: 100%|██████████| 36/36 [00:28<00:00,  1.25it/s]\n",
      "Epoch 22/100 [Val]: 100%|██████████| 5/5 [00:02<00:00,  1.73it/s]\n"
     ]
    },
    {
     "name": "stdout",
     "output_type": "stream",
     "text": [
      "Epoch 21: Train=0.4866, Val=0.6624\n"
     ]
    },
    {
     "name": "stderr",
     "output_type": "stream",
     "text": [
      "Epoch 23/100 [Train]: 100%|██████████| 36/36 [00:25<00:00,  1.40it/s]\n",
      "Epoch 23/100 [Val]: 100%|██████████| 5/5 [00:02<00:00,  2.11it/s]\n"
     ]
    },
    {
     "name": "stdout",
     "output_type": "stream",
     "text": [
      "Epoch 22: Train=0.4803, Val=0.8201\n"
     ]
    },
    {
     "name": "stderr",
     "output_type": "stream",
     "text": [
      "Epoch 24/100 [Train]: 100%|██████████| 36/36 [00:25<00:00,  1.42it/s]\n",
      "Epoch 24/100 [Val]: 100%|██████████| 5/5 [00:02<00:00,  2.11it/s]\n"
     ]
    },
    {
     "name": "stdout",
     "output_type": "stream",
     "text": [
      "Epoch 23: Train=0.4782, Val=0.4827\n",
      "✓ New best model saved at epoch 24 with val loss: 0.4827\n"
     ]
    },
    {
     "name": "stderr",
     "output_type": "stream",
     "text": [
      "Epoch 25/100 [Train]: 100%|██████████| 36/36 [00:26<00:00,  1.35it/s]\n",
      "Epoch 25/100 [Val]: 100%|██████████| 5/5 [00:02<00:00,  2.10it/s]\n"
     ]
    },
    {
     "name": "stdout",
     "output_type": "stream",
     "text": [
      "Epoch 24: Train=0.4650, Val=0.5723\n"
     ]
    },
    {
     "name": "stderr",
     "output_type": "stream",
     "text": [
      "Epoch 26/100 [Train]: 100%|██████████| 36/36 [00:25<00:00,  1.42it/s]\n",
      "Epoch 26/100 [Val]: 100%|██████████| 5/5 [00:02<00:00,  2.09it/s]\n"
     ]
    },
    {
     "name": "stdout",
     "output_type": "stream",
     "text": [
      "Epoch 25: Train=0.4754, Val=0.6626\n"
     ]
    },
    {
     "name": "stderr",
     "output_type": "stream",
     "text": [
      "Epoch 27/100 [Train]: 100%|██████████| 36/36 [00:25<00:00,  1.42it/s]\n",
      "Epoch 27/100 [Val]: 100%|██████████| 5/5 [00:02<00:00,  2.12it/s]\n"
     ]
    },
    {
     "name": "stdout",
     "output_type": "stream",
     "text": [
      "Epoch 26: Train=0.4738, Val=1.1866\n"
     ]
    },
    {
     "name": "stderr",
     "output_type": "stream",
     "text": [
      "Epoch 28/100 [Train]: 100%|██████████| 36/36 [00:25<00:00,  1.43it/s]\n",
      "Epoch 28/100 [Val]: 100%|██████████| 5/5 [00:02<00:00,  2.10it/s]\n"
     ]
    },
    {
     "name": "stdout",
     "output_type": "stream",
     "text": [
      "Epoch 27: Train=0.4736, Val=0.5137\n"
     ]
    },
    {
     "name": "stderr",
     "output_type": "stream",
     "text": [
      "Epoch 29/100 [Train]: 100%|██████████| 36/36 [00:25<00:00,  1.43it/s]\n",
      "Epoch 29/100 [Val]: 100%|██████████| 5/5 [00:02<00:00,  2.12it/s]\n"
     ]
    },
    {
     "name": "stdout",
     "output_type": "stream",
     "text": [
      "Epoch 28: Train=0.4640, Val=0.6369\n"
     ]
    },
    {
     "name": "stderr",
     "output_type": "stream",
     "text": [
      "Epoch 30/100 [Train]: 100%|██████████| 36/36 [00:25<00:00,  1.41it/s]\n",
      "Epoch 30/100 [Val]: 100%|██████████| 5/5 [00:02<00:00,  2.08it/s]\n"
     ]
    },
    {
     "name": "stdout",
     "output_type": "stream",
     "text": [
      "Epoch 29: Train=0.4596, Val=0.7095\n"
     ]
    },
    {
     "name": "stderr",
     "output_type": "stream",
     "text": [
      "Epoch 31/100 [Train]: 100%|██████████| 36/36 [00:25<00:00,  1.41it/s]\n",
      "Epoch 31/100 [Val]: 100%|██████████| 5/5 [00:02<00:00,  2.09it/s]\n"
     ]
    },
    {
     "name": "stdout",
     "output_type": "stream",
     "text": [
      "Epoch 30: Train=0.4558, Val=0.6805\n"
     ]
    },
    {
     "name": "stderr",
     "output_type": "stream",
     "text": [
      "Epoch 32/100 [Train]: 100%|██████████| 36/36 [00:25<00:00,  1.41it/s]\n",
      "Epoch 32/100 [Val]: 100%|██████████| 5/5 [00:02<00:00,  2.07it/s]\n"
     ]
    },
    {
     "name": "stdout",
     "output_type": "stream",
     "text": [
      "Epoch 31: Train=0.4539, Val=0.5659\n"
     ]
    },
    {
     "name": "stderr",
     "output_type": "stream",
     "text": [
      "Epoch 33/100 [Train]: 100%|██████████| 36/36 [00:25<00:00,  1.40it/s]\n",
      "Epoch 33/100 [Val]: 100%|██████████| 5/5 [00:02<00:00,  2.09it/s]\n"
     ]
    },
    {
     "name": "stdout",
     "output_type": "stream",
     "text": [
      "Epoch 32: Train=0.4487, Val=0.6065\n"
     ]
    },
    {
     "name": "stderr",
     "output_type": "stream",
     "text": [
      "Epoch 34/100 [Train]: 100%|██████████| 36/36 [00:25<00:00,  1.40it/s]\n",
      "Epoch 34/100 [Val]: 100%|██████████| 5/5 [00:02<00:00,  2.05it/s]\n"
     ]
    },
    {
     "name": "stdout",
     "output_type": "stream",
     "text": [
      "Epoch 33: Train=0.4466, Val=0.6232\n"
     ]
    },
    {
     "name": "stderr",
     "output_type": "stream",
     "text": [
      "Epoch 35/100 [Train]: 100%|██████████| 36/36 [00:26<00:00,  1.36it/s]\n",
      "Epoch 35/100 [Val]: 100%|██████████| 5/5 [00:02<00:00,  2.04it/s]\n"
     ]
    },
    {
     "name": "stdout",
     "output_type": "stream",
     "text": [
      "Epoch 34: Train=0.4449, Val=0.6793\n"
     ]
    },
    {
     "name": "stderr",
     "output_type": "stream",
     "text": [
      "Epoch 36/100 [Train]: 100%|██████████| 36/36 [00:25<00:00,  1.40it/s]\n",
      "Epoch 36/100 [Val]: 100%|██████████| 5/5 [00:02<00:00,  2.07it/s]\n"
     ]
    },
    {
     "name": "stdout",
     "output_type": "stream",
     "text": [
      "Epoch 35: Train=0.4427, Val=0.6661\n"
     ]
    },
    {
     "name": "stderr",
     "output_type": "stream",
     "text": [
      "Epoch 37/100 [Train]: 100%|██████████| 36/36 [00:25<00:00,  1.39it/s]\n",
      "Epoch 37/100 [Val]: 100%|██████████| 5/5 [00:02<00:00,  2.02it/s]\n"
     ]
    },
    {
     "name": "stdout",
     "output_type": "stream",
     "text": [
      "Epoch 36: Train=0.4395, Val=0.6994\n"
     ]
    },
    {
     "name": "stderr",
     "output_type": "stream",
     "text": [
      "Epoch 38/100 [Train]: 100%|██████████| 36/36 [00:25<00:00,  1.39it/s]\n",
      "Epoch 38/100 [Val]: 100%|██████████| 5/5 [00:02<00:00,  2.04it/s]\n"
     ]
    },
    {
     "name": "stdout",
     "output_type": "stream",
     "text": [
      "Epoch 37: Train=0.4374, Val=0.6826\n"
     ]
    },
    {
     "name": "stderr",
     "output_type": "stream",
     "text": [
      "Epoch 39/100 [Train]: 100%|██████████| 36/36 [00:26<00:00,  1.38it/s]\n",
      "Epoch 39/100 [Val]: 100%|██████████| 5/5 [00:02<00:00,  2.03it/s]\n"
     ]
    },
    {
     "name": "stdout",
     "output_type": "stream",
     "text": [
      "Epoch 38: Train=0.4352, Val=0.6750\n"
     ]
    },
    {
     "name": "stderr",
     "output_type": "stream",
     "text": [
      "Epoch 40/100 [Train]: 100%|██████████| 36/36 [00:25<00:00,  1.39it/s]\n",
      "Epoch 40/100 [Val]: 100%|██████████| 5/5 [00:02<00:00,  2.05it/s]\n"
     ]
    },
    {
     "name": "stdout",
     "output_type": "stream",
     "text": [
      "Epoch 39: Train=0.4334, Val=0.6527\n"
     ]
    },
    {
     "name": "stderr",
     "output_type": "stream",
     "text": [
      "Epoch 41/100 [Train]: 100%|██████████| 36/36 [00:25<00:00,  1.39it/s]\n",
      "Epoch 41/100 [Val]: 100%|██████████| 5/5 [00:02<00:00,  2.03it/s]\n"
     ]
    },
    {
     "name": "stdout",
     "output_type": "stream",
     "text": [
      "Epoch 40: Train=0.4333, Val=0.7155\n"
     ]
    },
    {
     "name": "stderr",
     "output_type": "stream",
     "text": [
      "Epoch 42/100 [Train]: 100%|██████████| 36/36 [00:25<00:00,  1.39it/s]\n",
      "Epoch 42/100 [Val]: 100%|██████████| 5/5 [00:02<00:00,  2.04it/s]\n"
     ]
    },
    {
     "name": "stdout",
     "output_type": "stream",
     "text": [
      "Epoch 41: Train=0.4320, Val=0.9054\n"
     ]
    },
    {
     "name": "stderr",
     "output_type": "stream",
     "text": [
      "Epoch 43/100 [Train]: 100%|██████████| 36/36 [00:25<00:00,  1.39it/s]\n",
      "Epoch 43/100 [Val]: 100%|██████████| 5/5 [00:02<00:00,  1.91it/s]\n"
     ]
    },
    {
     "name": "stdout",
     "output_type": "stream",
     "text": [
      "Epoch 42: Train=0.4302, Val=0.7286\n"
     ]
    },
    {
     "name": "stderr",
     "output_type": "stream",
     "text": [
      "Epoch 44/100 [Train]: 100%|██████████| 36/36 [00:27<00:00,  1.30it/s]\n",
      "Epoch 44/100 [Val]: 100%|██████████| 5/5 [00:02<00:00,  2.08it/s]\n"
     ]
    },
    {
     "name": "stdout",
     "output_type": "stream",
     "text": [
      "Epoch 43: Train=0.4304, Val=0.7656\n"
     ]
    },
    {
     "name": "stderr",
     "output_type": "stream",
     "text": [
      "Epoch 45/100 [Train]: 100%|██████████| 36/36 [00:25<00:00,  1.39it/s]\n",
      "Epoch 45/100 [Val]: 100%|██████████| 5/5 [00:02<00:00,  2.07it/s]\n"
     ]
    },
    {
     "name": "stdout",
     "output_type": "stream",
     "text": [
      "Epoch 44: Train=0.4288, Val=0.6542\n"
     ]
    },
    {
     "name": "stderr",
     "output_type": "stream",
     "text": [
      "Epoch 46/100 [Train]: 100%|██████████| 36/36 [00:26<00:00,  1.38it/s]\n",
      "Epoch 46/100 [Val]: 100%|██████████| 5/5 [00:02<00:00,  1.99it/s]\n"
     ]
    },
    {
     "name": "stdout",
     "output_type": "stream",
     "text": [
      "Epoch 45: Train=0.4282, Val=0.6615\n"
     ]
    },
    {
     "name": "stderr",
     "output_type": "stream",
     "text": [
      "Epoch 47/100 [Train]: 100%|██████████| 36/36 [00:26<00:00,  1.37it/s]\n",
      "Epoch 47/100 [Val]: 100%|██████████| 5/5 [00:02<00:00,  2.03it/s]\n"
     ]
    },
    {
     "name": "stdout",
     "output_type": "stream",
     "text": [
      "Epoch 46: Train=0.4276, Val=0.8365\n"
     ]
    },
    {
     "name": "stderr",
     "output_type": "stream",
     "text": [
      "Epoch 48/100 [Train]: 100%|██████████| 36/36 [00:26<00:00,  1.38it/s]\n",
      "Epoch 48/100 [Val]: 100%|██████████| 5/5 [00:02<00:00,  2.04it/s]\n"
     ]
    },
    {
     "name": "stdout",
     "output_type": "stream",
     "text": [
      "Epoch 47: Train=0.4276, Val=0.7177\n"
     ]
    },
    {
     "name": "stderr",
     "output_type": "stream",
     "text": [
      "Epoch 49/100 [Train]: 100%|██████████| 36/36 [00:25<00:00,  1.39it/s]\n",
      "Epoch 49/100 [Val]: 100%|██████████| 5/5 [00:02<00:00,  2.04it/s]\n"
     ]
    },
    {
     "name": "stdout",
     "output_type": "stream",
     "text": [
      "Epoch 48: Train=0.4267, Val=0.6796\n"
     ]
    },
    {
     "name": "stderr",
     "output_type": "stream",
     "text": [
      "Epoch 50/100 [Train]: 100%|██████████| 36/36 [00:25<00:00,  1.39it/s]\n",
      "Epoch 50/100 [Val]: 100%|██████████| 5/5 [00:02<00:00,  2.05it/s]\n"
     ]
    },
    {
     "name": "stdout",
     "output_type": "stream",
     "text": [
      "Epoch 49: Train=0.4262, Val=0.7169\n"
     ]
    },
    {
     "name": "stderr",
     "output_type": "stream",
     "text": [
      "Epoch 51/100 [Train]: 100%|██████████| 36/36 [00:25<00:00,  1.40it/s]\n",
      "Epoch 51/100 [Val]: 100%|██████████| 5/5 [00:02<00:00,  2.07it/s]\n"
     ]
    },
    {
     "name": "stdout",
     "output_type": "stream",
     "text": [
      "Epoch 50: Train=0.4279, Val=0.6384\n"
     ]
    },
    {
     "name": "stderr",
     "output_type": "stream",
     "text": [
      "Epoch 52/100 [Train]: 100%|██████████| 36/36 [00:25<00:00,  1.39it/s]\n",
      "Epoch 52/100 [Val]: 100%|██████████| 5/5 [00:02<00:00,  2.04it/s]\n"
     ]
    },
    {
     "name": "stdout",
     "output_type": "stream",
     "text": [
      "Epoch 51: Train=0.4272, Val=0.6265\n"
     ]
    },
    {
     "name": "stderr",
     "output_type": "stream",
     "text": [
      "Epoch 53/100 [Train]: 100%|██████████| 36/36 [00:25<00:00,  1.39it/s]\n",
      "Epoch 53/100 [Val]: 100%|██████████| 5/5 [00:02<00:00,  2.05it/s]\n"
     ]
    },
    {
     "name": "stdout",
     "output_type": "stream",
     "text": [
      "Epoch 52: Train=0.4261, Val=0.7331\n"
     ]
    },
    {
     "name": "stderr",
     "output_type": "stream",
     "text": [
      "Epoch 54/100 [Train]: 100%|██████████| 36/36 [00:26<00:00,  1.38it/s]\n",
      "Epoch 54/100 [Val]: 100%|██████████| 5/5 [00:02<00:00,  2.04it/s]\n"
     ]
    },
    {
     "name": "stdout",
     "output_type": "stream",
     "text": [
      "Epoch 53: Train=0.4255, Val=0.6253\n"
     ]
    },
    {
     "name": "stderr",
     "output_type": "stream",
     "text": [
      "Epoch 55/100 [Train]: 100%|██████████| 36/36 [00:26<00:00,  1.38it/s]\n",
      "Epoch 55/100 [Val]: 100%|██████████| 5/5 [00:02<00:00,  2.01it/s]\n"
     ]
    },
    {
     "name": "stdout",
     "output_type": "stream",
     "text": [
      "Epoch 54: Train=0.4259, Val=0.7173\n"
     ]
    },
    {
     "name": "stderr",
     "output_type": "stream",
     "text": [
      "Epoch 56/100 [Train]: 100%|██████████| 36/36 [00:26<00:00,  1.37it/s]\n",
      "Epoch 56/100 [Val]: 100%|██████████| 5/5 [00:02<00:00,  2.03it/s]\n"
     ]
    },
    {
     "name": "stdout",
     "output_type": "stream",
     "text": [
      "Epoch 55: Train=0.4256, Val=0.5873\n"
     ]
    },
    {
     "name": "stderr",
     "output_type": "stream",
     "text": [
      "Epoch 57/100 [Train]: 100%|██████████| 36/36 [00:26<00:00,  1.38it/s]\n",
      "Epoch 57/100 [Val]: 100%|██████████| 5/5 [00:02<00:00,  2.04it/s]\n"
     ]
    },
    {
     "name": "stdout",
     "output_type": "stream",
     "text": [
      "Epoch 56: Train=0.4254, Val=0.8879\n"
     ]
    },
    {
     "name": "stderr",
     "output_type": "stream",
     "text": [
      "Epoch 58/100 [Train]: 100%|██████████| 36/36 [00:26<00:00,  1.38it/s]\n",
      "Epoch 58/100 [Val]: 100%|██████████| 5/5 [00:02<00:00,  1.98it/s]\n"
     ]
    },
    {
     "name": "stdout",
     "output_type": "stream",
     "text": [
      "Epoch 57: Train=0.4257, Val=0.8284\n"
     ]
    },
    {
     "name": "stderr",
     "output_type": "stream",
     "text": [
      "Epoch 59/100 [Train]: 100%|██████████| 36/36 [00:26<00:00,  1.37it/s]\n",
      "Epoch 59/100 [Val]: 100%|██████████| 5/5 [00:02<00:00,  2.01it/s]\n"
     ]
    },
    {
     "name": "stdout",
     "output_type": "stream",
     "text": [
      "Epoch 58: Train=0.4251, Val=0.6251\n"
     ]
    },
    {
     "name": "stderr",
     "output_type": "stream",
     "text": [
      "Epoch 60/100 [Train]: 100%|██████████| 36/36 [00:26<00:00,  1.38it/s]\n",
      "Epoch 60/100 [Val]: 100%|██████████| 5/5 [00:02<00:00,  2.01it/s]\n"
     ]
    },
    {
     "name": "stdout",
     "output_type": "stream",
     "text": [
      "Epoch 59: Train=0.4255, Val=0.7970\n"
     ]
    },
    {
     "name": "stderr",
     "output_type": "stream",
     "text": [
      "Epoch 61/100 [Train]: 100%|██████████| 36/36 [00:26<00:00,  1.38it/s]\n",
      "Epoch 61/100 [Val]: 100%|██████████| 5/5 [00:02<00:00,  2.01it/s]\n"
     ]
    },
    {
     "name": "stdout",
     "output_type": "stream",
     "text": [
      "Epoch 60: Train=0.4257, Val=0.6420\n"
     ]
    },
    {
     "name": "stderr",
     "output_type": "stream",
     "text": [
      "Epoch 62/100 [Train]: 100%|██████████| 36/36 [00:26<00:00,  1.38it/s]\n",
      "Epoch 62/100 [Val]: 100%|██████████| 5/5 [00:02<00:00,  2.05it/s]\n"
     ]
    },
    {
     "name": "stdout",
     "output_type": "stream",
     "text": [
      "Epoch 61: Train=0.4252, Val=0.6750\n"
     ]
    },
    {
     "name": "stderr",
     "output_type": "stream",
     "text": [
      "Epoch 63/100 [Train]: 100%|██████████| 36/36 [00:25<00:00,  1.39it/s]\n",
      "Epoch 63/100 [Val]: 100%|██████████| 5/5 [00:02<00:00,  2.02it/s]\n"
     ]
    },
    {
     "name": "stdout",
     "output_type": "stream",
     "text": [
      "Epoch 62: Train=0.4266, Val=0.6874\n"
     ]
    },
    {
     "name": "stderr",
     "output_type": "stream",
     "text": [
      "Epoch 64/100 [Train]: 100%|██████████| 36/36 [00:26<00:00,  1.35it/s]\n",
      "Epoch 64/100 [Val]: 100%|██████████| 5/5 [00:02<00:00,  1.83it/s]\n"
     ]
    },
    {
     "name": "stdout",
     "output_type": "stream",
     "text": [
      "Epoch 63: Train=0.4257, Val=0.6894\n"
     ]
    },
    {
     "name": "stderr",
     "output_type": "stream",
     "text": [
      "Epoch 65/100 [Train]: 100%|██████████| 36/36 [00:28<00:00,  1.27it/s]\n",
      "Epoch 65/100 [Val]: 100%|██████████| 5/5 [00:02<00:00,  1.92it/s]\n"
     ]
    },
    {
     "name": "stdout",
     "output_type": "stream",
     "text": [
      "Epoch 64: Train=0.4248, Val=0.6695\n"
     ]
    },
    {
     "name": "stderr",
     "output_type": "stream",
     "text": [
      "Epoch 66/100 [Train]: 100%|██████████| 36/36 [00:25<00:00,  1.39it/s]\n",
      "Epoch 66/100 [Val]: 100%|██████████| 5/5 [00:02<00:00,  2.06it/s]\n"
     ]
    },
    {
     "name": "stdout",
     "output_type": "stream",
     "text": [
      "Epoch 65: Train=0.4258, Val=0.7927\n"
     ]
    },
    {
     "name": "stderr",
     "output_type": "stream",
     "text": [
      "Epoch 67/100 [Train]: 100%|██████████| 36/36 [00:25<00:00,  1.40it/s]\n",
      "Epoch 67/100 [Val]: 100%|██████████| 5/5 [00:02<00:00,  2.10it/s]\n"
     ]
    },
    {
     "name": "stdout",
     "output_type": "stream",
     "text": [
      "Epoch 66: Train=0.4271, Val=0.6634\n"
     ]
    },
    {
     "name": "stderr",
     "output_type": "stream",
     "text": [
      "Epoch 68/100 [Train]: 100%|██████████| 36/36 [00:26<00:00,  1.35it/s]\n",
      "Epoch 68/100 [Val]: 100%|██████████| 5/5 [00:02<00:00,  2.05it/s]\n"
     ]
    },
    {
     "name": "stdout",
     "output_type": "stream",
     "text": [
      "Epoch 67: Train=0.4249, Val=0.7583\n"
     ]
    },
    {
     "name": "stderr",
     "output_type": "stream",
     "text": [
      "Epoch 69/100 [Train]: 100%|██████████| 36/36 [00:26<00:00,  1.36it/s]\n",
      "Epoch 69/100 [Val]: 100%|██████████| 5/5 [00:02<00:00,  1.68it/s]\n"
     ]
    },
    {
     "name": "stdout",
     "output_type": "stream",
     "text": [
      "Epoch 68: Train=0.4256, Val=0.7886\n"
     ]
    },
    {
     "name": "stderr",
     "output_type": "stream",
     "text": [
      "Epoch 70/100 [Train]: 100%|██████████| 36/36 [00:27<00:00,  1.30it/s]\n",
      "Epoch 70/100 [Val]: 100%|██████████| 5/5 [00:02<00:00,  1.91it/s]\n"
     ]
    },
    {
     "name": "stdout",
     "output_type": "stream",
     "text": [
      "Epoch 69: Train=0.4261, Val=0.8375\n"
     ]
    },
    {
     "name": "stderr",
     "output_type": "stream",
     "text": [
      "Epoch 71/100 [Train]: 100%|██████████| 36/36 [00:25<00:00,  1.40it/s]\n",
      "Epoch 71/100 [Val]: 100%|██████████| 5/5 [00:02<00:00,  1.85it/s]\n"
     ]
    },
    {
     "name": "stdout",
     "output_type": "stream",
     "text": [
      "Epoch 70: Train=0.4248, Val=0.6895\n"
     ]
    },
    {
     "name": "stderr",
     "output_type": "stream",
     "text": [
      "Epoch 72/100 [Train]: 100%|██████████| 36/36 [00:25<00:00,  1.44it/s]\n",
      "Epoch 72/100 [Val]: 100%|██████████| 5/5 [00:02<00:00,  2.14it/s]\n"
     ]
    },
    {
     "name": "stdout",
     "output_type": "stream",
     "text": [
      "Epoch 71: Train=0.4257, Val=0.8019\n"
     ]
    },
    {
     "name": "stderr",
     "output_type": "stream",
     "text": [
      "Epoch 73/100 [Train]: 100%|██████████| 36/36 [00:27<00:00,  1.30it/s]\n",
      "Epoch 73/100 [Val]: 100%|██████████| 5/5 [00:02<00:00,  1.72it/s]\n"
     ]
    },
    {
     "name": "stdout",
     "output_type": "stream",
     "text": [
      "Epoch 72: Train=0.4262, Val=0.8392\n"
     ]
    },
    {
     "name": "stderr",
     "output_type": "stream",
     "text": [
      "Epoch 74/100 [Train]: 100%|██████████| 36/36 [00:29<00:00,  1.21it/s]\n",
      "Epoch 74/100 [Val]: 100%|██████████| 5/5 [00:02<00:00,  1.71it/s]\n"
     ]
    },
    {
     "name": "stdout",
     "output_type": "stream",
     "text": [
      "Epoch 73: Train=0.4248, Val=0.6934\n"
     ]
    },
    {
     "name": "stderr",
     "output_type": "stream",
     "text": [
      "Epoch 75/100 [Train]: 100%|██████████| 36/36 [00:29<00:00,  1.23it/s]\n",
      "Epoch 75/100 [Val]: 100%|██████████| 5/5 [00:02<00:00,  2.09it/s]\n"
     ]
    },
    {
     "name": "stdout",
     "output_type": "stream",
     "text": [
      "Epoch 74: Train=0.4255, Val=0.6023\n"
     ]
    },
    {
     "name": "stderr",
     "output_type": "stream",
     "text": [
      "Epoch 76/100 [Train]: 100%|██████████| 36/36 [00:25<00:00,  1.42it/s]\n",
      "Epoch 76/100 [Val]: 100%|██████████| 5/5 [00:02<00:00,  2.11it/s]\n"
     ]
    },
    {
     "name": "stdout",
     "output_type": "stream",
     "text": [
      "Epoch 75: Train=0.4258, Val=0.7021\n"
     ]
    },
    {
     "name": "stderr",
     "output_type": "stream",
     "text": [
      "Epoch 77/100 [Train]: 100%|██████████| 36/36 [00:25<00:00,  1.42it/s]\n",
      "Epoch 77/100 [Val]: 100%|██████████| 5/5 [00:02<00:00,  2.09it/s]\n"
     ]
    },
    {
     "name": "stdout",
     "output_type": "stream",
     "text": [
      "Epoch 76: Train=0.4248, Val=0.5550\n"
     ]
    },
    {
     "name": "stderr",
     "output_type": "stream",
     "text": [
      "Epoch 78/100 [Train]: 100%|██████████| 36/36 [00:25<00:00,  1.42it/s]\n",
      "Epoch 78/100 [Val]: 100%|██████████| 5/5 [00:02<00:00,  2.10it/s]\n"
     ]
    },
    {
     "name": "stdout",
     "output_type": "stream",
     "text": [
      "Epoch 77: Train=0.4249, Val=0.6591\n"
     ]
    },
    {
     "name": "stderr",
     "output_type": "stream",
     "text": [
      "Epoch 79/100 [Train]: 100%|██████████| 36/36 [00:25<00:00,  1.41it/s]\n",
      "Epoch 79/100 [Val]: 100%|██████████| 5/5 [00:02<00:00,  2.09it/s]\n"
     ]
    },
    {
     "name": "stdout",
     "output_type": "stream",
     "text": [
      "Epoch 78: Train=0.4257, Val=0.8049\n"
     ]
    },
    {
     "name": "stderr",
     "output_type": "stream",
     "text": [
      "Epoch 80/100 [Train]: 100%|██████████| 36/36 [00:25<00:00,  1.42it/s]\n",
      "Epoch 80/100 [Val]: 100%|██████████| 5/5 [00:02<00:00,  2.10it/s]\n"
     ]
    },
    {
     "name": "stdout",
     "output_type": "stream",
     "text": [
      "Epoch 79: Train=0.4255, Val=0.6296\n"
     ]
    },
    {
     "name": "stderr",
     "output_type": "stream",
     "text": [
      "Epoch 81/100 [Train]: 100%|██████████| 36/36 [00:25<00:00,  1.43it/s]\n",
      "Epoch 81/100 [Val]: 100%|██████████| 5/5 [00:02<00:00,  2.12it/s]\n"
     ]
    },
    {
     "name": "stdout",
     "output_type": "stream",
     "text": [
      "Epoch 80: Train=0.4249, Val=0.5814\n"
     ]
    },
    {
     "name": "stderr",
     "output_type": "stream",
     "text": [
      "Epoch 82/100 [Train]: 100%|██████████| 36/36 [00:25<00:00,  1.42it/s]\n",
      "Epoch 82/100 [Val]: 100%|██████████| 5/5 [00:02<00:00,  2.08it/s]\n"
     ]
    },
    {
     "name": "stdout",
     "output_type": "stream",
     "text": [
      "Epoch 81: Train=0.4270, Val=0.7621\n"
     ]
    },
    {
     "name": "stderr",
     "output_type": "stream",
     "text": [
      "Epoch 83/100 [Train]: 100%|██████████| 36/36 [00:25<00:00,  1.42it/s]\n",
      "Epoch 83/100 [Val]: 100%|██████████| 5/5 [00:02<00:00,  2.13it/s]\n"
     ]
    },
    {
     "name": "stdout",
     "output_type": "stream",
     "text": [
      "Epoch 82: Train=0.4260, Val=0.8385\n"
     ]
    },
    {
     "name": "stderr",
     "output_type": "stream",
     "text": [
      "Epoch 84/100 [Train]: 100%|██████████| 36/36 [00:25<00:00,  1.42it/s]\n",
      "Epoch 84/100 [Val]: 100%|██████████| 5/5 [00:02<00:00,  2.06it/s]\n"
     ]
    },
    {
     "name": "stdout",
     "output_type": "stream",
     "text": [
      "Epoch 83: Train=0.4249, Val=0.7450\n"
     ]
    },
    {
     "name": "stderr",
     "output_type": "stream",
     "text": [
      "Epoch 85/100 [Train]: 100%|██████████| 36/36 [00:25<00:00,  1.39it/s]\n",
      "Epoch 85/100 [Val]: 100%|██████████| 5/5 [00:02<00:00,  2.11it/s]\n"
     ]
    },
    {
     "name": "stdout",
     "output_type": "stream",
     "text": [
      "Epoch 84: Train=0.4260, Val=0.7359\n"
     ]
    },
    {
     "name": "stderr",
     "output_type": "stream",
     "text": [
      "Epoch 86/100 [Train]: 100%|██████████| 36/36 [00:25<00:00,  1.44it/s]\n",
      "Epoch 86/100 [Val]: 100%|██████████| 5/5 [00:02<00:00,  2.13it/s]\n"
     ]
    },
    {
     "name": "stdout",
     "output_type": "stream",
     "text": [
      "Epoch 85: Train=0.4254, Val=0.6506\n"
     ]
    },
    {
     "name": "stderr",
     "output_type": "stream",
     "text": [
      "Epoch 87/100 [Train]: 100%|██████████| 36/36 [00:25<00:00,  1.41it/s]\n",
      "Epoch 87/100 [Val]: 100%|██████████| 5/5 [00:02<00:00,  2.14it/s]\n"
     ]
    },
    {
     "name": "stdout",
     "output_type": "stream",
     "text": [
      "Epoch 86: Train=0.4250, Val=0.7937\n"
     ]
    },
    {
     "name": "stderr",
     "output_type": "stream",
     "text": [
      "Epoch 88/100 [Train]: 100%|██████████| 36/36 [00:25<00:00,  1.43it/s]\n",
      "Epoch 88/100 [Val]: 100%|██████████| 5/5 [00:02<00:00,  2.14it/s]\n"
     ]
    },
    {
     "name": "stdout",
     "output_type": "stream",
     "text": [
      "Epoch 87: Train=0.4263, Val=0.7328\n"
     ]
    },
    {
     "name": "stderr",
     "output_type": "stream",
     "text": [
      "Epoch 89/100 [Train]: 100%|██████████| 36/36 [00:25<00:00,  1.43it/s]\n",
      "Epoch 89/100 [Val]: 100%|██████████| 5/5 [00:02<00:00,  2.12it/s]\n"
     ]
    },
    {
     "name": "stdout",
     "output_type": "stream",
     "text": [
      "Epoch 88: Train=0.4248, Val=0.7449\n"
     ]
    },
    {
     "name": "stderr",
     "output_type": "stream",
     "text": [
      "Epoch 90/100 [Train]: 100%|██████████| 36/36 [00:25<00:00,  1.43it/s]\n",
      "Epoch 90/100 [Val]: 100%|██████████| 5/5 [00:02<00:00,  2.13it/s]\n"
     ]
    },
    {
     "name": "stdout",
     "output_type": "stream",
     "text": [
      "Epoch 89: Train=0.4252, Val=0.6526\n"
     ]
    },
    {
     "name": "stderr",
     "output_type": "stream",
     "text": [
      "Epoch 91/100 [Train]: 100%|██████████| 36/36 [00:24<00:00,  1.44it/s]\n",
      "Epoch 91/100 [Val]: 100%|██████████| 5/5 [00:02<00:00,  2.03it/s]\n"
     ]
    },
    {
     "name": "stdout",
     "output_type": "stream",
     "text": [
      "Epoch 90: Train=0.4248, Val=0.5191\n"
     ]
    },
    {
     "name": "stderr",
     "output_type": "stream",
     "text": [
      "Epoch 92/100 [Train]: 100%|██████████| 36/36 [00:24<00:00,  1.46it/s]\n",
      "Epoch 92/100 [Val]: 100%|██████████| 5/5 [00:02<00:00,  2.17it/s]\n"
     ]
    },
    {
     "name": "stdout",
     "output_type": "stream",
     "text": [
      "Epoch 91: Train=0.4253, Val=0.8250\n"
     ]
    },
    {
     "name": "stderr",
     "output_type": "stream",
     "text": [
      "Epoch 93/100 [Train]: 100%|██████████| 36/36 [00:24<00:00,  1.45it/s]\n",
      "Epoch 93/100 [Val]: 100%|██████████| 5/5 [00:02<00:00,  2.16it/s]\n"
     ]
    },
    {
     "name": "stdout",
     "output_type": "stream",
     "text": [
      "Epoch 92: Train=0.4262, Val=0.8005\n"
     ]
    },
    {
     "name": "stderr",
     "output_type": "stream",
     "text": [
      "Epoch 94/100 [Train]: 100%|██████████| 36/36 [00:27<00:00,  1.29it/s]\n",
      "Epoch 94/100 [Val]: 100%|██████████| 5/5 [00:02<00:00,  1.76it/s]\n"
     ]
    },
    {
     "name": "stdout",
     "output_type": "stream",
     "text": [
      "Epoch 93: Train=0.4246, Val=0.7315\n"
     ]
    },
    {
     "name": "stderr",
     "output_type": "stream",
     "text": [
      "Epoch 95/100 [Train]: 100%|██████████| 36/36 [00:29<00:00,  1.24it/s]\n",
      "Epoch 95/100 [Val]: 100%|██████████| 5/5 [00:02<00:00,  1.74it/s]\n"
     ]
    },
    {
     "name": "stdout",
     "output_type": "stream",
     "text": [
      "Epoch 94: Train=0.4251, Val=0.6392\n"
     ]
    },
    {
     "name": "stderr",
     "output_type": "stream",
     "text": [
      "Epoch 96/100 [Train]: 100%|██████████| 36/36 [00:27<00:00,  1.31it/s]\n",
      "Epoch 96/100 [Val]: 100%|██████████| 5/5 [00:02<00:00,  2.16it/s]\n"
     ]
    },
    {
     "name": "stdout",
     "output_type": "stream",
     "text": [
      "Epoch 95: Train=0.4254, Val=0.8121\n"
     ]
    },
    {
     "name": "stderr",
     "output_type": "stream",
     "text": [
      "Epoch 97/100 [Train]: 100%|██████████| 36/36 [00:25<00:00,  1.43it/s]\n",
      "Epoch 97/100 [Val]: 100%|██████████| 5/5 [00:02<00:00,  2.11it/s]\n"
     ]
    },
    {
     "name": "stdout",
     "output_type": "stream",
     "text": [
      "Epoch 96: Train=0.4243, Val=0.5204\n"
     ]
    },
    {
     "name": "stderr",
     "output_type": "stream",
     "text": [
      "Epoch 98/100 [Train]: 100%|██████████| 36/36 [00:26<00:00,  1.37it/s]\n",
      "Epoch 98/100 [Val]: 100%|██████████| 5/5 [00:02<00:00,  1.93it/s]\n"
     ]
    },
    {
     "name": "stdout",
     "output_type": "stream",
     "text": [
      "Epoch 97: Train=0.4284, Val=0.8456\n"
     ]
    },
    {
     "name": "stderr",
     "output_type": "stream",
     "text": [
      "Epoch 99/100 [Train]: 100%|██████████| 36/36 [00:25<00:00,  1.43it/s]\n",
      "Epoch 99/100 [Val]: 100%|██████████| 5/5 [00:02<00:00,  2.14it/s]\n"
     ]
    },
    {
     "name": "stdout",
     "output_type": "stream",
     "text": [
      "Epoch 98: Train=0.4248, Val=0.7065\n"
     ]
    },
    {
     "name": "stderr",
     "output_type": "stream",
     "text": [
      "Epoch 100/100 [Train]: 100%|██████████| 36/36 [00:25<00:00,  1.42it/s]\n",
      "Epoch 100/100 [Val]: 100%|██████████| 5/5 [00:02<00:00,  2.13it/s]\n"
     ]
    },
    {
     "name": "stdout",
     "output_type": "stream",
     "text": [
      "Epoch 99: Train=0.4258, Val=0.7155\n",
      "Final model saved at: /home/floodai/Desktop/Shivam/Shivam_original/Multi-Agent-Bot-Delivery-System/checkpoints/checkpoint_1100/agent_0/Thesis/Bangalore-Urban-Flood-Extent-Prediction/outputs/final_th_16_5_features_6_epochs_100/model/final_model.pth\n"
     ]
    },
    {
     "name": "stderr",
     "output_type": "stream",
     "text": [
      "Evaluating: 100%|██████████| 5/5 [00:02<00:00,  2.07it/s]\n"
     ]
    },
    {
     "name": "stdout",
     "output_type": "stream",
     "text": [
      "\n",
      "==================================================\n",
      "EVALUATION METRICS\n",
      "==================================================\n",
      "Loss:          0.717109\n",
      "Accuracy:      0.6691\n",
      "Precision:     0.9487\n",
      "Recall:        0.2984\n",
      "F1 Score:      0.4540\n",
      "IoU:           0.2937\n",
      "Dice Coefficient: 0.4540\n",
      "==================================================\n",
      "Evaluated results saved to:/home/floodai/Desktop/Shivam/Shivam_original/Multi-Agent-Bot-Delivery-System/checkpoints/checkpoint_1100/agent_0/Thesis/Bangalore-Urban-Flood-Extent-Prediction/outputs/final_th_16_5_features_6_epochs_100/Results/evaluation_results.pt\n",
      "[[53.2  0.7]\n",
      " [32.3 13.8]]\n"
     ]
    }
   ],
   "source": [
    "# Normalizing features other than sentinel1\n",
    "# Running same with 50 epochs\n",
    "# 1) Create dataset\n",
    "import json\n",
    "feature_index_path = project_config.PROCESSED_DATA_DIR / TARGET_STATE / safe_district_name / \"features_index.json\"\n",
    "with open(feature_index_path,\"r\") as f:\n",
    "    feats_index = json.load(f)\n",
    "all_files = [entry[\"features_file\"] for entry in feats_index]\n",
    "\n",
    "water_mask_threshold = -16.5\n",
    "\n",
    "dataset = FloodDataset(\n",
    "    index_list=all_files,\n",
    "    transform_normalize=[4,5,6,7,8,9,10],\n",
    "    # transform_normalize=[0,1,2,3],\n",
    "    # transform_standardize=[4,5,6,7,8,9,10],\n",
    "    pad_val=-99999.0,\n",
    "    nodata_dict={\"DEM_elevation\": -32768.0, \"DEM_slope\": -32768.0, \"DEM_sin_aspect\": -32768.0,\n",
    "                 \"DEM_cos_aspect\": -32768.0, \"DEM_curvature\": -32768.0},\n",
    "    vh_threshold = water_mask_threshold\n",
    ")\n",
    "\n",
    "# 2) DataLoader (note: features is a dict -> collated to dict of batched tensors)\n",
    "from torch.utils.data import DataLoader, random_split\n",
    "train_n = int(0.8*len(dataset))\n",
    "val_n = int(0.1*len(dataset))\n",
    "test_n = len(dataset) - train_n - val_n\n",
    "train_ds, val_ds, test_ds = random_split(dataset, [train_n, val_n, test_n], generator=torch.Generator().manual_seed(42))\n",
    "\n",
    "# batch_size = 4\n",
    "batch_size = 64\n",
    "# train_loader = DataLoader(train_ds, batch_size=batch_size, shuffle=True, num_workers=2)\n",
    "train_loader = DataLoader(train_ds, batch_size=batch_size, shuffle=True)\n",
    "val_loader = DataLoader(val_ds, batch_size=batch_size, shuffle=False)\n",
    "test_loader = DataLoader(test_ds, batch_size=batch_size, shuffle=False)\n",
    "\n",
    "\n",
    "# --- Run Training ---\n",
    "channel_names = [\"VH\", \"VV\",\"DEM_elevation\", \"DEM_slope\", \"HND\", \"Rainfall\"]\n",
    "# --- Model ---\n",
    "model = BinaryModel(in_channels=5, out_channels=1)\n",
    "# model = BinaryModelDeeper(in_channels=7, out_channels=1) # Unet with deeper MLP\n",
    "\n",
    "# epochs = 50\n",
    "epochs = 100\n",
    "\n",
    "tag = f\"final_th_16_5_features_{len(channel_names)}_epochs_{epochs}\"\n",
    "model_dir = project_config.OUTPUT_DIR / tag / \"model\"\n",
    "os.makedirs(model_dir, exist_ok=True)\n",
    "\n",
    "plots_dir = project_config.OUTPUT_DIR / tag / \"Plots\"\n",
    "os.makedirs(plots_dir, exist_ok=True)\n",
    "\n",
    "model, best_val_loss= train_model(\n",
    "                    model, train_loader, val_loader,\n",
    "                    epochs=epochs, \n",
    "                    pad_val=pad_val, \n",
    "                    nodata_dict=nodata_dict, \n",
    "                    channel_names=channel_names,\n",
    "                    model_dir=model_dir,\n",
    "                    plots_dir=plots_dir\n",
    "                )\n",
    "\n",
    "# Eval\n",
    "test_metrics, all_predictions, all_targets, all_masks = evaluate_model(\n",
    "    model, test_loader, pad_val, nodata_dict, channel_names\n",
    ")\n",
    "\n",
    "# Print the metrics\n",
    "print_metrics(test_metrics)\n",
    "\n",
    "results_dir= project_config.OUTPUT_DIR / tag / \"Results\"\n",
    "os.makedirs(results_dir, exist_ok=True)\n",
    "\n",
    "save_results(metrics=test_metrics, predictions=all_predictions, targets=all_predictions, masks=all_masks, save_dir=results_dir)\n",
    "\n",
    "\n",
    "cf_matrix_dir = plots_dir / \"Confusion Matrix\"\n",
    "os.makedirs(cf_matrix_dir, exist_ok=True)\n",
    "plot_confusion_matrix_total_percentage(all_predictions.numpy(), all_targets.numpy(), all_masks.numpy(), cf_matrix_dir)\n"
   ]
  },
  {
   "cell_type": "markdown",
   "id": "e794fdd6",
   "metadata": {},
   "source": [
    "### Testing by loading best trained model"
   ]
  },
  {
   "cell_type": "code",
   "execution_count": 35,
   "id": "d428e678",
   "metadata": {},
   "outputs": [
    {
     "name": "stdout",
     "output_type": "stream",
     "text": [
      "Loaded model from /home/floodai/Desktop/Shivam/Shivam_original/Multi-Agent-Bot-Delivery-System/checkpoints/checkpoint_1100/agent_0/Thesis/Bangalore-Urban-Flood-Extent-Prediction/outputs/final_th_16_5_features_6_epochs_100/model/best_model.pth (epoch 24, val_loss=0.4827)\n"
     ]
    }
   ],
   "source": [
    "import torch\n",
    "\n",
    "def load_trained_model(model, model_path, device=None, optimizer_class=None):\n",
    "    \"\"\"\n",
    "    Load a trained model from a saved checkpoint.\n",
    "    \n",
    "    Args:\n",
    "        model_class: The model class (e.g., UNet2d, FNO2d, etc.).\n",
    "        model_path (str or Path): Path to checkpoint (best_model.pth or final_model.pth).\n",
    "        device (str): 'cuda' or 'cpu'. If None, auto-detect.\n",
    "        optimizer_class: (Optional) torch.optim optimizer class (e.g., torch.optim.Adam).\n",
    "        \n",
    "    Returns:\n",
    "        model: Model with loaded weights.\n",
    "        optimizer: Loaded optimizer state (if optimizer_class is provided).\n",
    "        epoch: The epoch number at which it was saved.\n",
    "        train_loss: Last training loss.\n",
    "        val_loss: Last validation loss.\n",
    "    \"\"\"\n",
    "    if device is None:\n",
    "        device = \"cuda\" if torch.cuda.is_available() else \"cpu\"\n",
    "\n",
    "    # Load checkpoint\n",
    "    checkpoint = torch.load(model_path, map_location=device)\n",
    "\n",
    "    # Initialize model\n",
    "    model = model.to(device)\n",
    "    model.load_state_dict(checkpoint[\"model_state_dict\"])\n",
    "\n",
    "    # Restore optimizer (optional)\n",
    "    optimizer = None\n",
    "    if optimizer_class is not None:\n",
    "        optimizer = optimizer_class(model.parameters(), lr=1e-3)  # same LR as training\n",
    "        optimizer.load_state_dict(checkpoint[\"optimizer_state_dict\"])\n",
    "\n",
    "    epoch = checkpoint.get(\"epoch\", None)\n",
    "    train_loss = checkpoint.get(\"train_loss\", None)\n",
    "    val_loss = checkpoint.get(\"val_loss\", None)\n",
    "\n",
    "    print(f\"Loaded model from {model_path} (epoch {epoch}, val_loss={val_loss:.4f})\")\n",
    "\n",
    "    return model, optimizer, epoch, train_loss, val_loss\n",
    "\n",
    "\n",
    "# Path to saved checkpoint\n",
    "# model_path = \"checkpoints/best_model.pth\"\n",
    "model = BinaryModel(in_channels=5, out_channels=1)\n",
    "\n",
    "tag = f\"final_th_16_5_features_6_epochs_100\"\n",
    "model_dir = project_config.OUTPUT_DIR / tag / \"model\"\n",
    "model_path = model_dir / \"best_model.pth\"\n",
    "\n",
    "# Load model + optimizer\n",
    "model, optimizer, epoch, train_loss, val_loss = load_trained_model(\n",
    "    model=model, \n",
    "    model_path=model_path, \n",
    "    optimizer_class=torch.optim.Adam  # optional\n",
    ")\n",
    "\n",
    "\n"
   ]
  },
  {
   "cell_type": "code",
   "execution_count": null,
   "id": "c507a207",
   "metadata": {},
   "outputs": [
    {
     "name": "stderr",
     "output_type": "stream",
     "text": [
      "Evaluating: 100%|██████████| 5/5 [00:02<00:00,  2.10it/s]\n"
     ]
    },
    {
     "name": "stdout",
     "output_type": "stream",
     "text": [
      "\n",
      "==================================================\n",
      "EVALUATION METRICS\n",
      "==================================================\n",
      "Loss:          0.487957\n",
      "Accuracy:      0.8437\n",
      "Precision:     0.7539\n",
      "Recall:        0.9015\n",
      "F1 Score:      0.8211\n",
      "IoU:           0.6965\n",
      "Dice Coefficient: 0.8211\n",
      "==================================================\n",
      "[[48.5 11.7]\n",
      " [ 3.9 35.9]]\n",
      "Confusion matrix saved to:/home/floodai/Desktop/Shivam/Shivam_original/Multi-Agent-Bot-Delivery-System/checkpoints/checkpoint_1100/agent_0/Thesis/Bangalore-Urban-Flood-Extent-Prediction/outputs/final_th_16_5_features_6_epochs_100/Plots/Confusion Matrix/best_model_cf.png\n"
     ]
    },
    {
     "data": {
      "image/png": "[encoded data removed]",
      "text/plain": [
       "<Figure size 800x600 with 2 Axes>"
      ]
     },
     "metadata": {},
     "output_type": "display_data"
    }
   ],
   "source": [
    "dataset = FloodDataset(\n",
    "    index_list=all_files,\n",
    "    transform_normalize=[4,5,6,7,8,9,10],\n",
    "    # transform_normalize=[0,1,2,3],\n",
    "    # transform_standardize=[4,5,6,7,8,9,10],\n",
    "    pad_val=-99999.0,\n",
    "    nodata_dict={\"DEM_elevation\": -32768.0, \"DEM_slope\": -32768.0, \"DEM_sin_aspect\": -32768.0,\n",
    "                 \"DEM_cos_aspect\": -32768.0, \"DEM_curvature\": -32768.0},\n",
    "    vh_threshold = water_mask_threshold\n",
    ")\n",
    "\n",
    "# 2) DataLoader (note: features is a dict -> collated to dict of batched tensors)\n",
    "from torch.utils.data import DataLoader, random_split\n",
    "train_n = int(0.8*len(dataset))\n",
    "val_n = int(0.1*len(dataset))\n",
    "test_n = len(dataset) - train_n - val_n\n",
    "seed = 42\n",
    "train_ds, val_ds, test_ds = random_split(dataset, [train_n, val_n, test_n], generator=torch.Generator().manual_seed(seed))\n",
    "\n",
    "# batch_size = 4\n",
    "batch_size = 64\n",
    "# train_loader = DataLoader(train_ds, batch_size=batch_size, shuffle=True, num_workers=2)\n",
    "train_loader = DataLoader(train_ds, batch_size=batch_size, shuffle=True)\n",
    "val_loader = DataLoader(val_ds, batch_size=batch_size, shuffle=False)\n",
    "test_loader = DataLoader(test_ds, batch_size=batch_size, shuffle=False)\n",
    "\n",
    "\n",
    "# --- Run Training ---\n",
    "channel_names = [\"VH\", \"VV\",\"DEM_elevation\", \"DEM_slope\", \"HND\", \"Rainfall\"]\n",
    "\n",
    "# Eval\n",
    "test_metrics, all_predictions, all_targets, all_masks = evaluate_model(\n",
    "    model, test_loader, pad_val, nodata_dict, channel_names\n",
    ")\n",
    "\n",
    "# Print the metrics\n",
    "print_metrics(test_metrics)\n",
    "\n",
    "tag = f\"final_th_16_5_features_6_epochs_100\"\n",
    "plots_dir = project_config.OUTPUT_DIR / tag / \"Plots\"\n",
    "\n",
    "\n",
    "results_dir= project_config.OUTPUT_DIR / tag / \"Results\"\n",
    "os.makedirs(results_dir, exist_ok=True)\n",
    "\n",
    "# save_results(metrics=test_metrics, predictions=all_predictions, targets=all_predictions, masks=all_masks, save_dir=results_dir)\n",
    "\n",
    "\n",
    "cf_matrix_dir = plots_dir / \"Confusion Matrix\"\n",
    "os.makedirs(cf_matrix_dir, exist_ok=True)\n",
    "# plot_confusion_matrix_total_percentage(all_predictions.numpy(), all_targets.numpy(), all_masks.numpy(), None)\n",
    "plot_confusion_matrix_total_percentage(all_predictions.numpy(), all_targets.numpy(), all_masks.numpy(), cf_matrix_dir, \"best_model_cf\")\n",
    "\n"
   ]
  },
  {
   "cell_type": "markdown",
   "id": "e0899ad0",
   "metadata": {},
   "source": [
    "### Trying by not normalizing rainfall with -17.0 db water threshold\n"
   ]
  },
  {
   "cell_type": "code",
   "execution_count": 32,
   "id": "e07c0f31",
   "metadata": {},
   "outputs": [
    {
     "name": "stderr",
     "output_type": "stream",
     "text": [
      "Epoch 1/20 [Train]: 100%|██████████| 36/36 [00:23<00:00,  1.51it/s]\n",
      "Epoch 1/20 [Val]: 100%|██████████| 5/5 [00:02<00:00,  2.31it/s]\n"
     ]
    },
    {
     "name": "stdout",
     "output_type": "stream",
     "text": [
      "Epoch 0: Train=0.8003, Val=0.7966\n",
      "✓ New best model saved at epoch 1 with val loss: 0.7966\n"
     ]
    },
    {
     "name": "stderr",
     "output_type": "stream",
     "text": [
      "Epoch 2/20 [Train]: 100%|██████████| 36/36 [00:23<00:00,  1.51it/s]\n",
      "Epoch 2/20 [Val]: 100%|██████████| 5/5 [00:02<00:00,  2.33it/s]\n"
     ]
    },
    {
     "name": "stdout",
     "output_type": "stream",
     "text": [
      "Epoch 1: Train=0.7894, Val=0.9069\n"
     ]
    },
    {
     "name": "stderr",
     "output_type": "stream",
     "text": [
      "Epoch 3/20 [Train]: 100%|██████████| 36/36 [00:24<00:00,  1.45it/s]\n",
      "Epoch 3/20 [Val]: 100%|██████████| 5/5 [00:02<00:00,  1.75it/s]\n"
     ]
    },
    {
     "name": "stdout",
     "output_type": "stream",
     "text": [
      "Epoch 2: Train=0.7140, Val=1.1068\n"
     ]
    },
    {
     "name": "stderr",
     "output_type": "stream",
     "text": [
      "Epoch 4/20 [Train]: 100%|██████████| 36/36 [00:29<00:00,  1.23it/s]\n",
      "Epoch 4/20 [Val]: 100%|██████████| 5/5 [00:02<00:00,  1.76it/s]\n"
     ]
    },
    {
     "name": "stdout",
     "output_type": "stream",
     "text": [
      "Epoch 3: Train=0.6359, Val=2.6295\n"
     ]
    },
    {
     "name": "stderr",
     "output_type": "stream",
     "text": [
      "Epoch 5/20 [Train]: 100%|██████████| 36/36 [00:29<00:00,  1.23it/s]\n",
      "Epoch 5/20 [Val]: 100%|██████████| 5/5 [00:02<00:00,  1.87it/s]\n"
     ]
    },
    {
     "name": "stdout",
     "output_type": "stream",
     "text": [
      "Epoch 4: Train=0.6381, Val=2.5866\n"
     ]
    },
    {
     "name": "stderr",
     "output_type": "stream",
     "text": [
      "Epoch 6/20 [Train]: 100%|██████████| 36/36 [00:24<00:00,  1.46it/s]\n",
      "Epoch 6/20 [Val]: 100%|██████████| 5/5 [00:02<00:00,  2.26it/s]\n"
     ]
    },
    {
     "name": "stdout",
     "output_type": "stream",
     "text": [
      "Epoch 5: Train=0.5893, Val=2.3026\n"
     ]
    },
    {
     "name": "stderr",
     "output_type": "stream",
     "text": [
      "Epoch 7/20 [Train]: 100%|██████████| 36/36 [00:23<00:00,  1.50it/s]\n",
      "Epoch 7/20 [Val]: 100%|██████████| 5/5 [00:02<00:00,  2.28it/s]\n"
     ]
    },
    {
     "name": "stdout",
     "output_type": "stream",
     "text": [
      "Epoch 6: Train=0.5160, Val=1.2178\n"
     ]
    },
    {
     "name": "stderr",
     "output_type": "stream",
     "text": [
      "Epoch 8/20 [Train]: 100%|██████████| 36/36 [00:24<00:00,  1.46it/s]\n",
      "Epoch 8/20 [Val]: 100%|██████████| 5/5 [00:02<00:00,  1.95it/s]\n"
     ]
    },
    {
     "name": "stdout",
     "output_type": "stream",
     "text": [
      "Epoch 7: Train=0.4780, Val=3.8352\n"
     ]
    },
    {
     "name": "stderr",
     "output_type": "stream",
     "text": [
      "Epoch 9/20 [Train]: 100%|██████████| 36/36 [00:30<00:00,  1.19it/s]\n",
      "Epoch 9/20 [Val]: 100%|██████████| 5/5 [00:03<00:00,  1.62it/s]\n"
     ]
    },
    {
     "name": "stdout",
     "output_type": "stream",
     "text": [
      "Epoch 8: Train=0.4422, Val=2.3988\n"
     ]
    },
    {
     "name": "stderr",
     "output_type": "stream",
     "text": [
      "Epoch 10/20 [Train]: 100%|██████████| 36/36 [00:29<00:00,  1.24it/s]\n",
      "Epoch 10/20 [Val]: 100%|██████████| 5/5 [00:02<00:00,  1.89it/s]\n"
     ]
    },
    {
     "name": "stdout",
     "output_type": "stream",
     "text": [
      "Epoch 9: Train=0.4146, Val=3.8029\n"
     ]
    },
    {
     "name": "stderr",
     "output_type": "stream",
     "text": [
      "Epoch 11/20 [Train]: 100%|██████████| 36/36 [00:26<00:00,  1.36it/s]\n",
      "Epoch 11/20 [Val]: 100%|██████████| 5/5 [00:02<00:00,  2.03it/s]\n"
     ]
    },
    {
     "name": "stdout",
     "output_type": "stream",
     "text": [
      "Epoch 10: Train=0.4040, Val=7.0717\n"
     ]
    },
    {
     "name": "stderr",
     "output_type": "stream",
     "text": [
      "Epoch 12/20 [Train]: 100%|██████████| 36/36 [00:24<00:00,  1.46it/s]\n",
      "Epoch 12/20 [Val]: 100%|██████████| 5/5 [00:02<00:00,  2.22it/s]\n"
     ]
    },
    {
     "name": "stdout",
     "output_type": "stream",
     "text": [
      "Epoch 11: Train=0.4017, Val=0.5507\n",
      "✓ New best model saved at epoch 12 with val loss: 0.5507\n"
     ]
    },
    {
     "name": "stderr",
     "output_type": "stream",
     "text": [
      "Epoch 13/20 [Train]: 100%|██████████| 36/36 [00:24<00:00,  1.47it/s]\n",
      "Epoch 13/20 [Val]: 100%|██████████| 5/5 [00:02<00:00,  2.03it/s]\n"
     ]
    },
    {
     "name": "stdout",
     "output_type": "stream",
     "text": [
      "Epoch 12: Train=0.3864, Val=0.7619\n"
     ]
    },
    {
     "name": "stderr",
     "output_type": "stream",
     "text": [
      "Epoch 14/20 [Train]: 100%|██████████| 36/36 [00:24<00:00,  1.48it/s]\n",
      "Epoch 14/20 [Val]: 100%|██████████| 5/5 [00:02<00:00,  2.33it/s]\n"
     ]
    },
    {
     "name": "stdout",
     "output_type": "stream",
     "text": [
      "Epoch 13: Train=0.3652, Val=2.0408\n"
     ]
    },
    {
     "name": "stderr",
     "output_type": "stream",
     "text": [
      "Epoch 15/20 [Train]: 100%|██████████| 36/36 [00:23<00:00,  1.53it/s]\n",
      "Epoch 15/20 [Val]: 100%|██████████| 5/5 [00:02<00:00,  2.33it/s]\n"
     ]
    },
    {
     "name": "stdout",
     "output_type": "stream",
     "text": [
      "Epoch 14: Train=0.3468, Val=0.7490\n"
     ]
    },
    {
     "name": "stderr",
     "output_type": "stream",
     "text": [
      "Epoch 16/20 [Train]: 100%|██████████| 36/36 [00:23<00:00,  1.53it/s]\n",
      "Epoch 16/20 [Val]: 100%|██████████| 5/5 [00:02<00:00,  2.33it/s]\n"
     ]
    },
    {
     "name": "stdout",
     "output_type": "stream",
     "text": [
      "Epoch 15: Train=0.3302, Val=0.3463\n",
      "✓ New best model saved at epoch 16 with val loss: 0.3463\n"
     ]
    },
    {
     "name": "stderr",
     "output_type": "stream",
     "text": [
      "Epoch 17/20 [Train]: 100%|██████████| 36/36 [00:25<00:00,  1.44it/s]\n",
      "Epoch 17/20 [Val]: 100%|██████████| 5/5 [00:02<00:00,  1.93it/s]\n"
     ]
    },
    {
     "name": "stdout",
     "output_type": "stream",
     "text": [
      "Epoch 16: Train=0.3701, Val=1.8485\n"
     ]
    },
    {
     "name": "stderr",
     "output_type": "stream",
     "text": [
      "Epoch 18/20 [Train]: 100%|██████████| 36/36 [00:24<00:00,  1.47it/s]\n",
      "Epoch 18/20 [Val]: 100%|██████████| 5/5 [00:02<00:00,  2.19it/s]\n"
     ]
    },
    {
     "name": "stdout",
     "output_type": "stream",
     "text": [
      "Epoch 17: Train=0.3300, Val=1.2460\n"
     ]
    },
    {
     "name": "stderr",
     "output_type": "stream",
     "text": [
      "Epoch 19/20 [Train]: 100%|██████████| 36/36 [00:25<00:00,  1.42it/s]\n",
      "Epoch 19/20 [Val]: 100%|██████████| 5/5 [00:02<00:00,  1.90it/s]\n"
     ]
    },
    {
     "name": "stdout",
     "output_type": "stream",
     "text": [
      "Epoch 18: Train=0.3108, Val=0.4515\n"
     ]
    },
    {
     "name": "stderr",
     "output_type": "stream",
     "text": [
      "Epoch 20/20 [Train]: 100%|██████████| 36/36 [00:24<00:00,  1.47it/s]\n",
      "Epoch 20/20 [Val]: 100%|██████████| 5/5 [00:02<00:00,  2.31it/s]\n"
     ]
    },
    {
     "name": "stdout",
     "output_type": "stream",
     "text": [
      "Epoch 19: Train=0.3249, Val=1.9724\n",
      "Final model saved at: /home/floodai/Desktop/Shivam/Shivam_original/Multi-Agent-Bot-Delivery-System/checkpoints/checkpoint_1100/agent_0/Thesis/Bangalore-Urban-Flood-Extent-Prediction/outputs/final_th_17_0_features_6_epochs_20/model/final_model.pth\n"
     ]
    },
    {
     "name": "stderr",
     "output_type": "stream",
     "text": [
      "Evaluating: 100%|██████████| 5/5 [00:02<00:00,  2.29it/s]\n"
     ]
    },
    {
     "name": "stdout",
     "output_type": "stream",
     "text": [
      "\n",
      "==================================================\n",
      "EVALUATION METRICS\n",
      "==================================================\n",
      "Loss:          1.938649\n",
      "Accuracy:      0.4408\n",
      "Precision:     0.4146\n",
      "Recall:        0.9840\n",
      "F1 Score:      0.5834\n",
      "IoU:           0.4118\n",
      "Dice Coefficient: 0.5834\n",
      "==================================================\n",
      "[[ 4.9 55.3]\n",
      " [ 0.6 39.2]]\n",
      "Confusion matrix saved to:/home/floodai/Desktop/Shivam/Shivam_original/Multi-Agent-Bot-Delivery-System/checkpoints/checkpoint_1100/agent_0/Thesis/Bangalore-Urban-Flood-Extent-Prediction/outputs/final_th_17_0_features_6_epochs_20/Plots/Confusion Matrix/cf.png\n"
     ]
    },
    {
     "data": {
      "image/png": "[encoded data removed]",
      "text/plain": [
       "<Figure size 800x600 with 2 Axes>"
      ]
     },
     "metadata": {},
     "output_type": "display_data"
    }
   ],
   "source": [
    "# Normalizing features other than sentinel1\n",
    "# Running same with 50 epochs\n",
    "# 1) Create dataset\n",
    "import json\n",
    "feature_index_path = project_config.PROCESSED_DATA_DIR / TARGET_STATE / safe_district_name / \"features_index.json\"\n",
    "with open(feature_index_path,\"r\") as f:\n",
    "    feats_index = json.load(f)\n",
    "all_files = [entry[\"features_file\"] for entry in feats_index]\n",
    "\n",
    "water_mask_threshold = -17.0\n",
    "\n",
    "dataset = FloodDataset(\n",
    "    index_list=all_files,\n",
    "    transform_normalize=[4,5,6,7,8,9],\n",
    "    # transform_normalize=[4,5,6,7,8,9,10],\n",
    "    # transform_normalize=[0,1,2,3],\n",
    "    # transform_standardize=[4,5,6,7,8,9,10],\n",
    "    pad_val=-99999.0,\n",
    "    nodata_dict={\"DEM_elevation\": -32768.0, \"DEM_slope\": -32768.0, \"DEM_sin_aspect\": -32768.0,\n",
    "                 \"DEM_cos_aspect\": -32768.0, \"DEM_curvature\": -32768.0},\n",
    "    vh_threshold = water_mask_threshold\n",
    ")\n",
    "\n",
    "# 2) DataLoader (note: features is a dict -> collated to dict of batched tensors)\n",
    "from torch.utils.data import DataLoader, random_split\n",
    "train_n = int(0.8*len(dataset))\n",
    "val_n = int(0.1*len(dataset))\n",
    "test_n = len(dataset) - train_n - val_n\n",
    "train_ds, val_ds, test_ds = random_split(dataset, [train_n, val_n, test_n], generator=torch.Generator().manual_seed(42))\n",
    "\n",
    "# batch_size = 4\n",
    "batch_size = 64\n",
    "# train_loader = DataLoader(train_ds, batch_size=batch_size, shuffle=True, num_workers=2)\n",
    "train_loader = DataLoader(train_ds, batch_size=batch_size, shuffle=True)\n",
    "val_loader = DataLoader(val_ds, batch_size=batch_size, shuffle=False)\n",
    "test_loader = DataLoader(test_ds, batch_size=batch_size, shuffle=False)\n",
    "\n",
    "\n",
    "# --- Run Training ---\n",
    "channel_names = [\"VH\", \"VV\",\"DEM_elevation\", \"DEM_slope\", \"HND\", \"Rainfall\"]\n",
    "# --- Model ---\n",
    "model = BinaryModel(in_channels=5, out_channels=1)\n",
    "# model = BinaryModelDeeper(in_channels=7, out_channels=1) # Unet with deeper MLP\n",
    "\n",
    "# epochs = 50\n",
    "epochs = 20\n",
    "\n",
    "tag = f\"final_th_17_0_features_{len(channel_names)}_epochs_{epochs}\"\n",
    "model_dir = project_config.OUTPUT_DIR / tag / \"model\"\n",
    "os.makedirs(model_dir, exist_ok=True)\n",
    "\n",
    "plots_dir = project_config.OUTPUT_DIR / tag / \"Plots\"\n",
    "os.makedirs(plots_dir, exist_ok=True)\n",
    "\n",
    "model, best_val_loss= train_model(\n",
    "                    model, train_loader, val_loader,\n",
    "                    epochs=epochs, \n",
    "                    pad_val=pad_val, \n",
    "                    nodata_dict=nodata_dict, \n",
    "                    channel_names=channel_names,\n",
    "                    model_dir=model_dir,\n",
    "                    plots_dir=plots_dir\n",
    "                )\n",
    "\n",
    "# Eval\n",
    "test_metrics, all_predictions, all_targets, all_masks = evaluate_model(\n",
    "    model, test_loader, pad_val, nodata_dict, channel_names\n",
    ")\n",
    "\n",
    "# Print the metrics\n",
    "print_metrics(test_metrics)\n",
    "\n",
    "results_dir= project_config.OUTPUT_DIR / tag / \"Results\"\n",
    "os.makedirs(results_dir, exist_ok=True)\n",
    "\n",
    "# save_results(metrics=test_metrics, predictions=all_predictions, targets=all_predictions, masks=all_masks, save_dir=results_dir)\n",
    "\n",
    "\n",
    "cf_matrix_dir = plots_dir / \"Confusion Matrix\"\n",
    "os.makedirs(cf_matrix_dir, exist_ok=True)\n",
    "plot_confusion_matrix_total_percentage(all_predictions.numpy(), all_targets.numpy(), all_masks.numpy(), cf_matrix_dir)\n"
   ]
  },
  {
   "cell_type": "markdown",
   "id": "3527d64b",
   "metadata": {},
   "source": [
    "### Evaluating on -17.0 threshold with best model"
   ]
  },
  {
   "cell_type": "code",
   "execution_count": null,
   "id": "e08fd636",
   "metadata": {},
   "outputs": [
    {
     "name": "stdout",
     "output_type": "stream",
     "text": [
      "Loaded model from /home/floodai/Desktop/Shivam/Shivam_original/Multi-Agent-Bot-Delivery-System/checkpoints/checkpoint_1100/agent_0/Thesis/Bangalore-Urban-Flood-Extent-Prediction/outputs/final_th_17_0_features_6_epochs_20/model/best_model.pth (epoch 16, val_loss=0.3463)\n"
     ]
    },
    {
     "name": "stderr",
     "output_type": "stream",
     "text": [
      "Evaluating: 100%|██████████| 5/5 [00:02<00:00,  2.21it/s]\n"
     ]
    },
    {
     "name": "stdout",
     "output_type": "stream",
     "text": [
      "\n",
      "==================================================\n",
      "EVALUATION METRICS\n",
      "==================================================\n",
      "Loss:          0.344655\n",
      "Accuracy:      0.8809\n",
      "Precision:     0.8556\n",
      "Recall:        0.8428\n",
      "F1 Score:      0.8492\n",
      "IoU:           0.7379\n",
      "Dice Coefficient: 0.8492\n",
      "==================================================\n",
      "[[54.6  5.7]\n",
      " [ 6.3 33.5]]\n",
      "Confusion matrix saved to:/home/floodai/Desktop/Shivam/Shivam_original/Multi-Agent-Bot-Delivery-System/checkpoints/checkpoint_1100/agent_0/Thesis/Bangalore-Urban-Flood-Extent-Prediction/outputs/final_th_17_0_features_6_epochs_20/Plots/Confusion Matrix/best_model_cf.png\n"
     ]
    },
    {
     "data": {
      "image/png": "[encoded data removed]",
      "text/plain": [
       "<Figure size 800x600 with 2 Axes>"
      ]
     },
     "metadata": {},
     "output_type": "display_data"
    }
   ],
   "source": [
    "# Path to saved checkpoint\n",
    "# model_path = \"checkpoints/best_model.pth\"\n",
    "model = BinaryModel(in_channels=5, out_channels=1)\n",
    "\n",
    "# tag = f\"final_th_17_0_features_6_epochs_20\"\n",
    "tag = f\"rain_not_normalized_final_th_17_0_features_6_epochs_20\"\n",
    "model_dir = project_config.OUTPUT_DIR / tag / \"model\"\n",
    "model_path = model_dir / \"best_model.pth\"\n",
    "\n",
    "# Load model + optimizer\n",
    "model, optimizer, epoch, train_loss, val_loss = load_trained_model(\n",
    "    model=model, \n",
    "    model_path=model_path, \n",
    "    optimizer_class=torch.optim.Adam  # optional\n",
    ")\n",
    "\n",
    "# --- Run Training ---\n",
    "channel_names = [\"VH\", \"VV\",\"DEM_elevation\", \"DEM_slope\", \"HND\", \"Rainfall\"]\n",
    "\n",
    "# Eval\n",
    "test_metrics, all_predictions, all_targets, all_masks = evaluate_model(\n",
    "    model, test_loader, pad_val, nodata_dict, channel_names\n",
    ")\n",
    "\n",
    "# Print the metrics\n",
    "print_metrics(test_metrics)\n",
    "\n",
    "# tag = f\"final_th_16_5_features_6_epochs_100\"\n",
    "\n",
    "\n",
    "results_dir= project_config.OUTPUT_DIR / tag / \"Results\"\n",
    "os.makedirs(results_dir, exist_ok=True)\n",
    "\n",
    "# save_results(metrics=test_metrics, predictions=all_predictions, targets=all_predictions, masks=all_masks, save_dir=results_dir)\n",
    "\n",
    "plots_dir = project_config.OUTPUT_DIR / tag / \"Plots\"\n",
    "cf_matrix_dir = plots_dir / \"Confusion Matrix\"\n",
    "os.makedirs(cf_matrix_dir, exist_ok=True)\n",
    "# plot_confusion_matrix_total_percentage(all_predictions.numpy(), all_targets.numpy(), all_masks.numpy(), None)\n",
    "plot_confusion_matrix_total_percentage(all_predictions.numpy(), all_targets.numpy(), all_masks.numpy(), cf_matrix_dir, \"best_model_cf\")\n"
   ]
  },
  {
   "cell_type": "code",
   "execution_count": null,
   "id": "b6d20524",
   "metadata": {},
   "outputs": [],
   "source": []
  },
  {
   "cell_type": "code",
   "execution_count": null,
   "id": "4cbbe4aa",
   "metadata": {},
   "outputs": [],
   "source": []
  }
 ],
 "metadata": {
  "kernelspec": {
   "display_name": "shivam",
   "language": "python",
   "name": "python3"
  },
  "language_info": {
   "codemirror_mode": {
    "name": "ipython",
    "version": 3
   },
   "file_extension": ".py",
   "mimetype": "text/x-python",
   "name": "python",
   "nbconvert_exporter": "python",
   "pygments_lexer": "ipython3",
   "version": "3.10.17"
  }
 },
 "nbformat": 4,
 "nbformat_minor": 5
}
